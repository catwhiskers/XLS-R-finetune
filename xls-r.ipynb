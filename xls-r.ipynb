{
 "cells": [
  {
   "cell_type": "code",
   "execution_count": 41,
   "id": "b50ac59b",
   "metadata": {},
   "outputs": [
    {
     "name": "stdout",
     "output_type": "stream",
     "text": [
      "Looking in indexes: https://pypi.org/simple, https://pip.repos.neuron.amazonaws.com\n",
      "Requirement already satisfied: datasets==1.13.3 in /home/ec2-user/anaconda3/envs/python3/lib/python3.6/site-packages (1.13.3)\n",
      "Requirement already satisfied: dill in /home/ec2-user/anaconda3/envs/python3/lib/python3.6/site-packages (from datasets==1.13.3) (0.3.4)\n",
      "Requirement already satisfied: dataclasses in /home/ec2-user/anaconda3/envs/python3/lib/python3.6/site-packages (from datasets==1.13.3) (0.8)\n",
      "Requirement already satisfied: pyarrow!=4.0.0,>=1.0.0 in /home/ec2-user/anaconda3/envs/python3/lib/python3.6/site-packages (from datasets==1.13.3) (4.0.1)\n",
      "Requirement already satisfied: importlib-metadata in /home/ec2-user/anaconda3/envs/python3/lib/python3.6/site-packages (from datasets==1.13.3) (3.7.0)\n",
      "Requirement already satisfied: tqdm>=4.62.1 in /home/ec2-user/anaconda3/envs/python3/lib/python3.6/site-packages (from datasets==1.13.3) (4.62.3)\n",
      "Requirement already satisfied: xxhash in /home/ec2-user/anaconda3/envs/python3/lib/python3.6/site-packages (from datasets==1.13.3) (2.0.2)\n",
      "Requirement already satisfied: numpy>=1.17 in /home/ec2-user/anaconda3/envs/python3/lib/python3.6/site-packages (from datasets==1.13.3) (1.19.5)\n",
      "Collecting huggingface-hub<0.1.0,>=0.0.19\n",
      "  Using cached huggingface_hub-0.0.19-py3-none-any.whl (56 kB)\n",
      "Requirement already satisfied: packaging in /home/ec2-user/anaconda3/envs/python3/lib/python3.6/site-packages (from datasets==1.13.3) (20.9)\n",
      "Requirement already satisfied: pandas in /home/ec2-user/anaconda3/envs/python3/lib/python3.6/site-packages (from datasets==1.13.3) (1.1.5)\n",
      "Requirement already satisfied: fsspec[http]>=2021.05.0 in /home/ec2-user/anaconda3/envs/python3/lib/python3.6/site-packages (from datasets==1.13.3) (2021.11.0)\n",
      "Requirement already satisfied: multiprocess in /home/ec2-user/anaconda3/envs/python3/lib/python3.6/site-packages (from datasets==1.13.3) (0.70.12.2)\n",
      "Requirement already satisfied: aiohttp in /home/ec2-user/anaconda3/envs/python3/lib/python3.6/site-packages (from datasets==1.13.3) (3.7.4.post0)\n",
      "Requirement already satisfied: requests>=2.19.0 in /home/ec2-user/anaconda3/envs/python3/lib/python3.6/site-packages (from datasets==1.13.3) (2.25.1)\n",
      "Requirement already satisfied: typing-extensions in /home/ec2-user/anaconda3/envs/python3/lib/python3.6/site-packages (from huggingface-hub<0.1.0,>=0.0.19->datasets==1.13.3) (3.7.4.3)\n",
      "Requirement already satisfied: pyyaml in /home/ec2-user/anaconda3/envs/python3/lib/python3.6/site-packages (from huggingface-hub<0.1.0,>=0.0.19->datasets==1.13.3) (5.4.1)\n",
      "Requirement already satisfied: filelock in /home/ec2-user/anaconda3/envs/python3/lib/python3.6/site-packages (from huggingface-hub<0.1.0,>=0.0.19->datasets==1.13.3) (3.0.12)\n",
      "Requirement already satisfied: pyparsing>=2.0.2 in /home/ec2-user/anaconda3/envs/python3/lib/python3.6/site-packages (from packaging->datasets==1.13.3) (2.4.7)\n",
      "Requirement already satisfied: certifi>=2017.4.17 in /home/ec2-user/anaconda3/envs/python3/lib/python3.6/site-packages (from requests>=2.19.0->datasets==1.13.3) (2020.12.5)\n",
      "Requirement already satisfied: chardet<5,>=3.0.2 in /home/ec2-user/anaconda3/envs/python3/lib/python3.6/site-packages (from requests>=2.19.0->datasets==1.13.3) (3.0.4)\n",
      "Requirement already satisfied: urllib3<1.27,>=1.21.1 in /home/ec2-user/anaconda3/envs/python3/lib/python3.6/site-packages (from requests>=2.19.0->datasets==1.13.3) (1.26.6)\n",
      "Requirement already satisfied: idna<3,>=2.5 in /home/ec2-user/anaconda3/envs/python3/lib/python3.6/site-packages (from requests>=2.19.0->datasets==1.13.3) (2.10)\n",
      "Requirement already satisfied: attrs>=17.3.0 in /home/ec2-user/anaconda3/envs/python3/lib/python3.6/site-packages (from aiohttp->datasets==1.13.3) (20.3.0)\n",
      "Requirement already satisfied: yarl<2.0,>=1.0 in /home/ec2-user/anaconda3/envs/python3/lib/python3.6/site-packages (from aiohttp->datasets==1.13.3) (1.6.3)\n",
      "Requirement already satisfied: idna-ssl>=1.0 in /home/ec2-user/anaconda3/envs/python3/lib/python3.6/site-packages (from aiohttp->datasets==1.13.3) (1.1.0)\n",
      "Requirement already satisfied: async-timeout<4.0,>=3.0 in /home/ec2-user/anaconda3/envs/python3/lib/python3.6/site-packages (from aiohttp->datasets==1.13.3) (3.0.1)\n",
      "Requirement already satisfied: multidict<7.0,>=4.5 in /home/ec2-user/anaconda3/envs/python3/lib/python3.6/site-packages (from aiohttp->datasets==1.13.3) (5.1.0)\n",
      "Requirement already satisfied: zipp>=0.5 in /home/ec2-user/anaconda3/envs/python3/lib/python3.6/site-packages (from importlib-metadata->datasets==1.13.3) (3.4.0)\n",
      "Requirement already satisfied: python-dateutil>=2.7.3 in /home/ec2-user/anaconda3/envs/python3/lib/python3.6/site-packages (from pandas->datasets==1.13.3) (2.8.1)\n",
      "Requirement already satisfied: pytz>=2017.2 in /home/ec2-user/anaconda3/envs/python3/lib/python3.6/site-packages (from pandas->datasets==1.13.3) (2021.1)\n",
      "Requirement already satisfied: six>=1.5 in /home/ec2-user/anaconda3/envs/python3/lib/python3.6/site-packages (from python-dateutil>=2.7.3->pandas->datasets==1.13.3) (1.15.0)\n",
      "Installing collected packages: huggingface-hub\n",
      "  Attempting uninstall: huggingface-hub\n",
      "    Found existing installation: huggingface-hub 0.1.0\n",
      "    Uninstalling huggingface-hub-0.1.0:\n",
      "      Successfully uninstalled huggingface-hub-0.1.0\n",
      "Successfully installed huggingface-hub-0.0.19\n",
      "\u001b[33mWARNING: You are using pip version 21.1.3; however, version 21.3.1 is available.\n",
      "You should consider upgrading via the '/home/ec2-user/anaconda3/envs/python3/bin/python -m pip install --upgrade pip' command.\u001b[0m\n",
      "Looking in indexes: https://pypi.org/simple, https://pip.repos.neuron.amazonaws.com\n",
      "Requirement already satisfied: transformers==4.11.3 in /home/ec2-user/anaconda3/envs/python3/lib/python3.6/site-packages (4.11.3)\n",
      "Requirement already satisfied: sacremoses in /home/ec2-user/anaconda3/envs/python3/lib/python3.6/site-packages (from transformers==4.11.3) (0.0.46)\n",
      "Requirement already satisfied: tqdm>=4.27 in /home/ec2-user/anaconda3/envs/python3/lib/python3.6/site-packages (from transformers==4.11.3) (4.62.3)\n",
      "Requirement already satisfied: numpy>=1.17 in /home/ec2-user/anaconda3/envs/python3/lib/python3.6/site-packages (from transformers==4.11.3) (1.19.5)\n",
      "Requirement already satisfied: filelock in /home/ec2-user/anaconda3/envs/python3/lib/python3.6/site-packages (from transformers==4.11.3) (3.0.12)\n",
      "Requirement already satisfied: regex!=2019.12.17 in /home/ec2-user/anaconda3/envs/python3/lib/python3.6/site-packages (from transformers==4.11.3) (2020.11.13)\n",
      "Requirement already satisfied: requests in /home/ec2-user/anaconda3/envs/python3/lib/python3.6/site-packages (from transformers==4.11.3) (2.25.1)\n",
      "Requirement already satisfied: pyyaml>=5.1 in /home/ec2-user/anaconda3/envs/python3/lib/python3.6/site-packages (from transformers==4.11.3) (5.4.1)\n",
      "Requirement already satisfied: dataclasses in /home/ec2-user/anaconda3/envs/python3/lib/python3.6/site-packages (from transformers==4.11.3) (0.8)\n",
      "Requirement already satisfied: huggingface-hub>=0.0.17 in /home/ec2-user/anaconda3/envs/python3/lib/python3.6/site-packages (from transformers==4.11.3) (0.0.19)\n",
      "Requirement already satisfied: importlib-metadata in /home/ec2-user/anaconda3/envs/python3/lib/python3.6/site-packages (from transformers==4.11.3) (3.7.0)\n",
      "Requirement already satisfied: tokenizers<0.11,>=0.10.1 in /home/ec2-user/anaconda3/envs/python3/lib/python3.6/site-packages (from transformers==4.11.3) (0.10.3)\n",
      "Requirement already satisfied: packaging>=20.0 in /home/ec2-user/anaconda3/envs/python3/lib/python3.6/site-packages (from transformers==4.11.3) (20.9)\n",
      "Requirement already satisfied: typing-extensions in /home/ec2-user/anaconda3/envs/python3/lib/python3.6/site-packages (from huggingface-hub>=0.0.17->transformers==4.11.3) (3.7.4.3)\n",
      "Requirement already satisfied: pyparsing>=2.0.2 in /home/ec2-user/anaconda3/envs/python3/lib/python3.6/site-packages (from packaging>=20.0->transformers==4.11.3) (2.4.7)\n",
      "Requirement already satisfied: zipp>=0.5 in /home/ec2-user/anaconda3/envs/python3/lib/python3.6/site-packages (from importlib-metadata->transformers==4.11.3) (3.4.0)\n",
      "Requirement already satisfied: idna<3,>=2.5 in /home/ec2-user/anaconda3/envs/python3/lib/python3.6/site-packages (from requests->transformers==4.11.3) (2.10)\n",
      "Requirement already satisfied: certifi>=2017.4.17 in /home/ec2-user/anaconda3/envs/python3/lib/python3.6/site-packages (from requests->transformers==4.11.3) (2020.12.5)\n",
      "Requirement already satisfied: urllib3<1.27,>=1.21.1 in /home/ec2-user/anaconda3/envs/python3/lib/python3.6/site-packages (from requests->transformers==4.11.3) (1.26.6)\n",
      "Requirement already satisfied: chardet<5,>=3.0.2 in /home/ec2-user/anaconda3/envs/python3/lib/python3.6/site-packages (from requests->transformers==4.11.3) (3.0.4)\n"
     ]
    },
    {
     "name": "stdout",
     "output_type": "stream",
     "text": [
      "Requirement already satisfied: six in /home/ec2-user/anaconda3/envs/python3/lib/python3.6/site-packages (from sacremoses->transformers==4.11.3) (1.15.0)\n",
      "Requirement already satisfied: joblib in /home/ec2-user/anaconda3/envs/python3/lib/python3.6/site-packages (from sacremoses->transformers==4.11.3) (1.0.1)\n",
      "Requirement already satisfied: click in /home/ec2-user/anaconda3/envs/python3/lib/python3.6/site-packages (from sacremoses->transformers==4.11.3) (7.1.2)\n",
      "\u001b[33mWARNING: You are using pip version 21.1.3; however, version 21.3.1 is available.\n",
      "You should consider upgrading via the '/home/ec2-user/anaconda3/envs/python3/bin/python -m pip install --upgrade pip' command.\u001b[0m\n",
      "Looking in indexes: https://pypi.org/simple, https://pip.repos.neuron.amazonaws.com\n",
      "Collecting huggingface_hub==0.1\n",
      "  Using cached huggingface_hub-0.1.0-py3-none-any.whl (59 kB)\n",
      "Requirement already satisfied: typing-extensions in /home/ec2-user/anaconda3/envs/python3/lib/python3.6/site-packages (from huggingface_hub==0.1) (3.7.4.3)\n",
      "Requirement already satisfied: requests in /home/ec2-user/anaconda3/envs/python3/lib/python3.6/site-packages (from huggingface_hub==0.1) (2.25.1)\n",
      "Requirement already satisfied: packaging>=20.9 in /home/ec2-user/anaconda3/envs/python3/lib/python3.6/site-packages (from huggingface_hub==0.1) (20.9)\n",
      "Requirement already satisfied: tqdm in /home/ec2-user/anaconda3/envs/python3/lib/python3.6/site-packages (from huggingface_hub==0.1) (4.62.3)\n",
      "Requirement already satisfied: filelock in /home/ec2-user/anaconda3/envs/python3/lib/python3.6/site-packages (from huggingface_hub==0.1) (3.0.12)\n",
      "Requirement already satisfied: importlib-metadata in /home/ec2-user/anaconda3/envs/python3/lib/python3.6/site-packages (from huggingface_hub==0.1) (3.7.0)\n",
      "Requirement already satisfied: pyyaml in /home/ec2-user/anaconda3/envs/python3/lib/python3.6/site-packages (from huggingface_hub==0.1) (5.4.1)\n",
      "Requirement already satisfied: pyparsing>=2.0.2 in /home/ec2-user/anaconda3/envs/python3/lib/python3.6/site-packages (from packaging>=20.9->huggingface_hub==0.1) (2.4.7)\n",
      "Requirement already satisfied: zipp>=0.5 in /home/ec2-user/anaconda3/envs/python3/lib/python3.6/site-packages (from importlib-metadata->huggingface_hub==0.1) (3.4.0)\n",
      "Requirement already satisfied: chardet<5,>=3.0.2 in /home/ec2-user/anaconda3/envs/python3/lib/python3.6/site-packages (from requests->huggingface_hub==0.1) (3.0.4)\n",
      "Requirement already satisfied: urllib3<1.27,>=1.21.1 in /home/ec2-user/anaconda3/envs/python3/lib/python3.6/site-packages (from requests->huggingface_hub==0.1) (1.26.6)\n",
      "Requirement already satisfied: certifi>=2017.4.17 in /home/ec2-user/anaconda3/envs/python3/lib/python3.6/site-packages (from requests->huggingface_hub==0.1) (2020.12.5)\n",
      "Requirement already satisfied: idna<3,>=2.5 in /home/ec2-user/anaconda3/envs/python3/lib/python3.6/site-packages (from requests->huggingface_hub==0.1) (2.10)\n",
      "Installing collected packages: huggingface-hub\n",
      "  Attempting uninstall: huggingface-hub\n",
      "    Found existing installation: huggingface-hub 0.0.19\n",
      "    Uninstalling huggingface-hub-0.0.19:\n",
      "      Successfully uninstalled huggingface-hub-0.0.19\n",
      "\u001b[31mERROR: pip's dependency resolver does not currently take into account all the packages that are installed. This behaviour is the source of the following dependency conflicts.\n",
      "datasets 1.13.3 requires huggingface-hub<0.1.0,>=0.0.19, but you have huggingface-hub 0.1.0 which is incompatible.\u001b[0m\n",
      "Successfully installed huggingface-hub-0.1.0\n",
      "\u001b[33mWARNING: You are using pip version 21.1.3; however, version 21.3.1 is available.\n",
      "You should consider upgrading via the '/home/ec2-user/anaconda3/envs/python3/bin/python -m pip install --upgrade pip' command.\u001b[0m\n",
      "Looking in indexes: https://pypi.org/simple, https://pip.repos.neuron.amazonaws.com\n",
      "Requirement already satisfied: torchaudio in /home/ec2-user/anaconda3/envs/python3/lib/python3.6/site-packages (0.10.0)\n",
      "Requirement already satisfied: torch==1.10.0 in /home/ec2-user/anaconda3/envs/python3/lib/python3.6/site-packages (from torchaudio) (1.10.0)\n",
      "Requirement already satisfied: typing-extensions in /home/ec2-user/anaconda3/envs/python3/lib/python3.6/site-packages (from torch==1.10.0->torchaudio) (3.7.4.3)\n",
      "Requirement already satisfied: dataclasses in /home/ec2-user/anaconda3/envs/python3/lib/python3.6/site-packages (from torch==1.10.0->torchaudio) (0.8)\n",
      "\u001b[33mWARNING: You are using pip version 21.1.3; however, version 21.3.1 is available.\n",
      "You should consider upgrading via the '/home/ec2-user/anaconda3/envs/python3/bin/python -m pip install --upgrade pip' command.\u001b[0m\n",
      "Looking in indexes: https://pypi.org/simple, https://pip.repos.neuron.amazonaws.com\n",
      "Requirement already satisfied: librosa in /home/ec2-user/anaconda3/envs/python3/lib/python3.6/site-packages (0.8.1)\n",
      "Requirement already satisfied: scikit-learn!=0.19.0,>=0.14.0 in /home/ec2-user/anaconda3/envs/python3/lib/python3.6/site-packages (from librosa) (0.24.1)\n",
      "Requirement already satisfied: scipy>=1.0.0 in /home/ec2-user/anaconda3/envs/python3/lib/python3.6/site-packages (from librosa) (1.5.4)\n",
      "Requirement already satisfied: pooch>=1.0 in /home/ec2-user/anaconda3/envs/python3/lib/python3.6/site-packages (from librosa) (1.5.2)\n",
      "Requirement already satisfied: numba>=0.43.0 in /home/ec2-user/anaconda3/envs/python3/lib/python3.6/site-packages (from librosa) (0.52.0)\n",
      "Requirement already satisfied: numpy>=1.15.0 in /home/ec2-user/anaconda3/envs/python3/lib/python3.6/site-packages (from librosa) (1.19.5)\n",
      "Requirement already satisfied: joblib>=0.14 in /home/ec2-user/anaconda3/envs/python3/lib/python3.6/site-packages (from librosa) (1.0.1)\n",
      "Requirement already satisfied: soundfile>=0.10.2 in /home/ec2-user/anaconda3/envs/python3/lib/python3.6/site-packages (from librosa) (0.10.3.post1)\n",
      "Requirement already satisfied: audioread>=2.0.0 in /home/ec2-user/anaconda3/envs/python3/lib/python3.6/site-packages (from librosa) (2.1.9)\n",
      "Requirement already satisfied: resampy>=0.2.2 in /home/ec2-user/anaconda3/envs/python3/lib/python3.6/site-packages (from librosa) (0.2.2)\n",
      "Requirement already satisfied: packaging>=20.0 in /home/ec2-user/anaconda3/envs/python3/lib/python3.6/site-packages (from librosa) (20.9)\n",
      "Requirement already satisfied: decorator>=3.0.0 in /home/ec2-user/anaconda3/envs/python3/lib/python3.6/site-packages (from librosa) (4.4.2)\n",
      "Requirement already satisfied: llvmlite<0.36,>=0.35.0 in /home/ec2-user/anaconda3/envs/python3/lib/python3.6/site-packages (from numba>=0.43.0->librosa) (0.35.0)\n",
      "Requirement already satisfied: setuptools in /home/ec2-user/anaconda3/envs/python3/lib/python3.6/site-packages (from numba>=0.43.0->librosa) (49.6.0.post20210108)\n",
      "Requirement already satisfied: pyparsing>=2.0.2 in /home/ec2-user/anaconda3/envs/python3/lib/python3.6/site-packages (from packaging>=20.0->librosa) (2.4.7)\n",
      "Requirement already satisfied: requests in /home/ec2-user/anaconda3/envs/python3/lib/python3.6/site-packages (from pooch>=1.0->librosa) (2.25.1)\n",
      "Requirement already satisfied: appdirs in /home/ec2-user/anaconda3/envs/python3/lib/python3.6/site-packages (from pooch>=1.0->librosa) (1.4.4)\n",
      "Requirement already satisfied: six>=1.3 in /home/ec2-user/anaconda3/envs/python3/lib/python3.6/site-packages (from resampy>=0.2.2->librosa) (1.15.0)\n",
      "Requirement already satisfied: threadpoolctl>=2.0.0 in /home/ec2-user/anaconda3/envs/python3/lib/python3.6/site-packages (from scikit-learn!=0.19.0,>=0.14.0->librosa) (2.1.0)\n",
      "Requirement already satisfied: cffi>=1.0 in /home/ec2-user/anaconda3/envs/python3/lib/python3.6/site-packages (from soundfile>=0.10.2->librosa) (1.14.5)\n",
      "Requirement already satisfied: pycparser in /home/ec2-user/anaconda3/envs/python3/lib/python3.6/site-packages (from cffi>=1.0->soundfile>=0.10.2->librosa) (2.20)\n",
      "Requirement already satisfied: idna<3,>=2.5 in /home/ec2-user/anaconda3/envs/python3/lib/python3.6/site-packages (from requests->pooch>=1.0->librosa) (2.10)\n",
      "Requirement already satisfied: certifi>=2017.4.17 in /home/ec2-user/anaconda3/envs/python3/lib/python3.6/site-packages (from requests->pooch>=1.0->librosa) (2020.12.5)\n",
      "Requirement already satisfied: urllib3<1.27,>=1.21.1 in /home/ec2-user/anaconda3/envs/python3/lib/python3.6/site-packages (from requests->pooch>=1.0->librosa) (1.26.6)\n",
      "Requirement already satisfied: chardet<5,>=3.0.2 in /home/ec2-user/anaconda3/envs/python3/lib/python3.6/site-packages (from requests->pooch>=1.0->librosa) (3.0.4)\n"
     ]
    },
    {
     "name": "stdout",
     "output_type": "stream",
     "text": [
      "\u001b[33mWARNING: You are using pip version 21.1.3; however, version 21.3.1 is available.\n",
      "You should consider upgrading via the '/home/ec2-user/anaconda3/envs/python3/bin/python -m pip install --upgrade pip' command.\u001b[0m\n",
      "Looking in indexes: https://pypi.org/simple, https://pip.repos.neuron.amazonaws.com\n",
      "Requirement already satisfied: jiwer in /home/ec2-user/anaconda3/envs/python3/lib/python3.6/site-packages (2.3.0)\n",
      "Requirement already satisfied: python-Levenshtein==0.12.2 in /home/ec2-user/anaconda3/envs/python3/lib/python3.6/site-packages (from jiwer) (0.12.2)\n",
      "Requirement already satisfied: setuptools in /home/ec2-user/anaconda3/envs/python3/lib/python3.6/site-packages (from python-Levenshtein==0.12.2->jiwer) (49.6.0.post20210108)\n",
      "\u001b[33mWARNING: You are using pip version 21.1.3; however, version 21.3.1 is available.\n",
      "You should consider upgrading via the '/home/ec2-user/anaconda3/envs/python3/bin/python -m pip install --upgrade pip' command.\u001b[0m\n"
     ]
    }
   ],
   "source": [
    "!pip install datasets==1.13.3\n",
    "!pip install transformers==4.11.3\n",
    "!pip install huggingface_hub==0.1\n",
    "!pip install torchaudio\n",
    "!pip install librosa\n",
    "!pip install jiwer"
   ]
  },
  {
   "cell_type": "code",
   "execution_count": 42,
   "id": "cf422e9d",
   "metadata": {},
   "outputs": [
    {
     "name": "stderr",
     "output_type": "stream",
     "text": [
      "Reusing dataset common_voice (/home/ec2-user/.cache/huggingface/datasets/common_voice/tr/6.1.0/f7a9d973839b7706e9e281c19b7e512f31badf3c0fdbd21c671f3c4bf9acf3b9)\n",
      "Reusing dataset common_voice (/home/ec2-user/.cache/huggingface/datasets/common_voice/tr/6.1.0/f7a9d973839b7706e9e281c19b7e512f31badf3c0fdbd21c671f3c4bf9acf3b9)\n"
     ]
    }
   ],
   "source": [
    "from datasets import load_dataset, load_metric, Audio\n",
    "\n",
    "common_voice_train = load_dataset(\"common_voice\", \"tr\", split=\"train+validation\")\n",
    "common_voice_test = load_dataset(\"common_voice\", \"tr\", split=\"test\")\n"
   ]
  },
  {
   "cell_type": "code",
   "execution_count": 2,
   "id": "9dda9a0f",
   "metadata": {},
   "outputs": [],
   "source": [
    "common_voice_train = common_voice_train.remove_columns([\"accent\", \"age\", \"client_id\", \"down_votes\", \"gender\", \"locale\", \"segment\", \"up_votes\"])\n",
    "common_voice_test = common_voice_test.remove_columns([\"accent\", \"age\", \"client_id\", \"down_votes\", \"gender\", \"locale\", \"segment\", \"up_votes\"])\n"
   ]
  },
  {
   "cell_type": "code",
   "execution_count": 3,
   "id": "480a1379",
   "metadata": {},
   "outputs": [],
   "source": [
    "from datasets import ClassLabel\n",
    "import random\n",
    "import pandas as pd\n",
    "from IPython.display import display, HTML\n",
    "\n",
    "def show_random_elements(dataset, num_examples=10):\n",
    "    assert num_examples <= len(dataset), \"Can't pick more elements than there are in the dataset.\"\n",
    "    picks = []\n",
    "    for _ in range(num_examples):\n",
    "        pick = random.randint(0, len(dataset)-1)\n",
    "        while pick in picks:\n",
    "            pick = random.randint(0, len(dataset)-1)\n",
    "        picks.append(pick)\n",
    "    \n",
    "    df = pd.DataFrame(dataset[picks])\n",
    "    display(HTML(df.to_html()))\n"
   ]
  },
  {
   "cell_type": "code",
   "execution_count": 5,
   "id": "e20e6c3e",
   "metadata": {},
   "outputs": [
    {
     "data": {
      "text/html": [
       "<table border=\"1\" class=\"dataframe\">\n",
       "  <thead>\n",
       "    <tr style=\"text-align: right;\">\n",
       "      <th></th>\n",
       "      <th>path</th>\n",
       "      <th>audio</th>\n",
       "      <th>sentence</th>\n",
       "    </tr>\n",
       "  </thead>\n",
       "  <tbody>\n",
       "    <tr>\n",
       "      <th>0</th>\n",
       "      <td>/home/ec2-user/.cache/huggingface/datasets/downloads/extracted/211b5c20a015f678b41323cdd92fbd851122989d4637c71111babb6dfadf5d59/cv-corpus-6.1-2020-12-11/tr/clips/common_voice_tr_19650223.mp3</td>\n",
       "      <td>{'path': '/home/ec2-user/.cache/huggingface/datasets/downloads/extracted/211b5c20a015f678b41323cdd92fbd851122989d4637c71111babb6dfadf5d59/cv-corpus-6.1-2020-12-11/tr/clips/common_voice_tr_19650223.mp3', 'array': [0.0, 0.0, 0.0, 0.0, 0.0, 0.0, 0.0, 0.0, 0.0, 0.0, 0.0, 0.0, 0.0, 0.0, 0.0, 0.0, 0.0, 0.0, 0.0, 0.0, 0.0, 0.0, 0.0, 0.0, 0.0, 0.0, 0.0, 0.0, 0.0, 0.0, 0.0, 0.0, 0.0, 0.0, 0.0, 0.0, 0.0, 0.0, 0.0, 0.0, 0.0, 0.0, 0.0, 0.0, 0.0, 0.0, 0.0, 0.0, 0.0, 0.0, 0.0, 0.0, 0.0, 0.0, 0.0, 0.0, 0.0, 0.0, 0.0, 0.0, 0.0, 0.0, 0.0, 0.0, 0.0, 0.0, 0.0, 0.0, 0.0, 0.0, 0.0, 0.0, 0.0, 0.0, 0.0, 0.0, 0.0, 0.0, 0.0, 0.0, 0.0, 0.0, 0.0, 0.0, 0.0, 0.0, 0.0, 0.0, 0.0, 0.0, 0.0, 0.0, 0.0, 0.0, 0.0, 0.0, 0.0, 0.0, 0.0, 0.0, ...], 'sampling_rate': 48000}</td>\n",
       "      <td>Çalışmaya sekiz ülkeden on sekiz bilim insanı katıldı.</td>\n",
       "    </tr>\n",
       "    <tr>\n",
       "      <th>1</th>\n",
       "      <td>/home/ec2-user/.cache/huggingface/datasets/downloads/extracted/211b5c20a015f678b41323cdd92fbd851122989d4637c71111babb6dfadf5d59/cv-corpus-6.1-2020-12-11/tr/clips/common_voice_tr_17373087.mp3</td>\n",
       "      <td>{'path': '/home/ec2-user/.cache/huggingface/datasets/downloads/extracted/211b5c20a015f678b41323cdd92fbd851122989d4637c71111babb6dfadf5d59/cv-corpus-6.1-2020-12-11/tr/clips/common_voice_tr_17373087.mp3', 'array': [0.0, 0.0, 0.0, 0.0, 0.0, 0.0, 0.0, 0.0, 0.0, 0.0, 0.0, 0.0, 0.0, 0.0, 0.0, 0.0, 0.0, 0.0, 0.0, 0.0, 0.0, 0.0, 0.0, 0.0, 0.0, 0.0, 0.0, 0.0, 0.0, 0.0, 0.0, 0.0, 0.0, 0.0, 0.0, 0.0, 0.0, 0.0, 0.0, 0.0, 0.0, 0.0, 0.0, 0.0, 0.0, 0.0, 0.0, 0.0, 0.0, 0.0, 0.0, 0.0, 0.0, 0.0, 0.0, 0.0, 0.0, 0.0, 0.0, 0.0, 0.0, 0.0, 0.0, 0.0, 0.0, 0.0, 0.0, 0.0, 0.0, 0.0, 0.0, 0.0, 0.0, 0.0, 0.0, 0.0, 0.0, 0.0, 0.0, 0.0, 0.0, 0.0, 0.0, 0.0, 0.0, 0.0, 0.0, 0.0, 0.0, 0.0, 0.0, 0.0, 0.0, 0.0, 0.0, 0.0, 0.0, 0.0, 0.0, 0.0, ...], 'sampling_rate': 48000}</td>\n",
       "      <td>Bu yönde bazı önemli adımlar atıldı.</td>\n",
       "    </tr>\n",
       "    <tr>\n",
       "      <th>2</th>\n",
       "      <td>/home/ec2-user/.cache/huggingface/datasets/downloads/extracted/211b5c20a015f678b41323cdd92fbd851122989d4637c71111babb6dfadf5d59/cv-corpus-6.1-2020-12-11/tr/clips/common_voice_tr_21288244.mp3</td>\n",
       "      <td>{'path': '/home/ec2-user/.cache/huggingface/datasets/downloads/extracted/211b5c20a015f678b41323cdd92fbd851122989d4637c71111babb6dfadf5d59/cv-corpus-6.1-2020-12-11/tr/clips/common_voice_tr_21288244.mp3', 'array': [0.0, 0.0, 0.0, 0.0, 0.0, 0.0, 0.0, 0.0, 0.0, 0.0, 0.0, 0.0, 0.0, 0.0, 0.0, 0.0, 0.0, 0.0, 0.0, 0.0, 0.0, 0.0, 0.0, 0.0, 0.0, 0.0, 0.0, 0.0, 0.0, 0.0, 0.0, 0.0, 0.0, 0.0, 0.0, 0.0, 0.0, 0.0, 0.0, 0.0, 0.0, 0.0, 0.0, 0.0, 0.0, 0.0, 0.0, 0.0, 0.0, 0.0, 0.0, 0.0, 0.0, 0.0, 0.0, 0.0, 0.0, 0.0, 0.0, 0.0, 0.0, 0.0, 0.0, 0.0, 0.0, 0.0, 0.0, 0.0, 0.0, 0.0, 0.0, 0.0, 0.0, 0.0, 0.0, 0.0, 0.0, 0.0, 0.0, 0.0, 0.0, 0.0, 0.0, 0.0, 0.0, 0.0, 0.0, 0.0, 0.0, 0.0, 0.0, 0.0, 0.0, 0.0, 0.0, 0.0, 0.0, 0.0, 0.0, 0.0, ...], 'sampling_rate': 48000}</td>\n",
       "      <td>\"Amerika'da çok çeşitli filmler var.\"</td>\n",
       "    </tr>\n",
       "    <tr>\n",
       "      <th>3</th>\n",
       "      <td>/home/ec2-user/.cache/huggingface/datasets/downloads/extracted/211b5c20a015f678b41323cdd92fbd851122989d4637c71111babb6dfadf5d59/cv-corpus-6.1-2020-12-11/tr/clips/common_voice_tr_18731945.mp3</td>\n",
       "      <td>{'path': '/home/ec2-user/.cache/huggingface/datasets/downloads/extracted/211b5c20a015f678b41323cdd92fbd851122989d4637c71111babb6dfadf5d59/cv-corpus-6.1-2020-12-11/tr/clips/common_voice_tr_18731945.mp3', 'array': [0.0, 0.0, 0.0, 0.0, 0.0, 0.0, 0.0, 0.0, 0.0, 0.0, 0.0, 0.0, 0.0, 0.0, 0.0, 0.0, 0.0, 0.0, 0.0, 0.0, 0.0, 0.0, 0.0, 0.0, 0.0, 0.0, 0.0, 0.0, 0.0, 0.0, 0.0, 0.0, 0.0, 0.0, 0.0, 0.0, 0.0, 0.0, 0.0, 0.0, 0.0, 0.0, 0.0, 0.0, 0.0, 0.0, 0.0, 0.0, 0.0, 0.0, 0.0, 0.0, 0.0, 0.0, 0.0, 0.0, 0.0, 0.0, 0.0, 0.0, 0.0, 0.0, 0.0, 0.0, 0.0, 0.0, 0.0, 0.0, 0.0, 0.0, 0.0, 0.0, 0.0, 0.0, 0.0, 0.0, 0.0, 0.0, 0.0, 0.0, 0.0, 0.0, 0.0, 0.0, 0.0, 0.0, 0.0, 0.0, 0.0, 0.0, 0.0, 0.0, 0.0, 0.0, 0.0, 0.0, 0.0, 0.0, 0.0, 0.0, ...], 'sampling_rate': 48000}</td>\n",
       "      <td>Analistler de kararların önemine dikkat çekiyor.</td>\n",
       "    </tr>\n",
       "    <tr>\n",
       "      <th>4</th>\n",
       "      <td>/home/ec2-user/.cache/huggingface/datasets/downloads/extracted/211b5c20a015f678b41323cdd92fbd851122989d4637c71111babb6dfadf5d59/cv-corpus-6.1-2020-12-11/tr/clips/common_voice_tr_21308295.mp3</td>\n",
       "      <td>{'path': '/home/ec2-user/.cache/huggingface/datasets/downloads/extracted/211b5c20a015f678b41323cdd92fbd851122989d4637c71111babb6dfadf5d59/cv-corpus-6.1-2020-12-11/tr/clips/common_voice_tr_21308295.mp3', 'array': [0.0, 0.0, 0.0, 0.0, 0.0, 0.0, 0.0, 0.0, 0.0, 0.0, 0.0, 0.0, 0.0, 0.0, 0.0, 0.0, 0.0, 0.0, 0.0, 0.0, 0.0, 0.0, 0.0, 0.0, 0.0, 0.0, 0.0, 0.0, 0.0, 0.0, 0.0, 0.0, 0.0, 0.0, 0.0, 0.0, 0.0, 0.0, 0.0, 0.0, 0.0, 0.0, 0.0, 0.0, 0.0, 0.0, 0.0, 0.0, 0.0, 0.0, 0.0, 0.0, 0.0, 0.0, 0.0, 0.0, 0.0, 0.0, 0.0, 0.0, 0.0, 0.0, 0.0, 0.0, 0.0, 0.0, 0.0, 0.0, 0.0, 0.0, 0.0, 0.0, 0.0, 0.0, 0.0, 0.0, 0.0, 0.0, 0.0, 0.0, 0.0, 0.0, 0.0, 0.0, 0.0, 0.0, 0.0, 0.0, 0.0, 0.0, 0.0, 0.0, 0.0, 0.0, 0.0, 0.0, 0.0, 0.0, 0.0, 0.0, ...], 'sampling_rate': 48000}</td>\n",
       "      <td>Onu fetheden komutan ne güzel komutandır.</td>\n",
       "    </tr>\n",
       "    <tr>\n",
       "      <th>5</th>\n",
       "      <td>/home/ec2-user/.cache/huggingface/datasets/downloads/extracted/211b5c20a015f678b41323cdd92fbd851122989d4637c71111babb6dfadf5d59/cv-corpus-6.1-2020-12-11/tr/clips/common_voice_tr_17342172.mp3</td>\n",
       "      <td>{'path': '/home/ec2-user/.cache/huggingface/datasets/downloads/extracted/211b5c20a015f678b41323cdd92fbd851122989d4637c71111babb6dfadf5d59/cv-corpus-6.1-2020-12-11/tr/clips/common_voice_tr_17342172.mp3', 'array': [0.0, 0.0, 0.0, 0.0, 0.0, 0.0, 0.0, 0.0, 0.0, 0.0, 0.0, 0.0, 0.0, 0.0, 0.0, 0.0, 0.0, 0.0, 0.0, 0.0, 0.0, 0.0, 0.0, 0.0, 0.0, 0.0, 0.0, 0.0, 0.0, 0.0, 0.0, 0.0, 0.0, 0.0, 0.0, 0.0, 0.0, 0.0, 0.0, 0.0, 0.0, 0.0, 0.0, 0.0, 0.0, 0.0, 0.0, 0.0, 0.0, 0.0, 0.0, 0.0, 0.0, 0.0, 0.0, 0.0, 0.0, 0.0, 0.0, 0.0, 0.0, 0.0, 0.0, 0.0, 0.0, 0.0, 0.0, 0.0, 0.0, 0.0, 0.0, 0.0, 0.0, 0.0, 0.0, 0.0, 0.0, 0.0, 0.0, 0.0, 0.0, 0.0, 0.0, 0.0, 0.0, 0.0, 0.0, 0.0, 0.0, 0.0, 0.0, 0.0, 0.0, 0.0, 0.0, 0.0, 0.0, 0.0, 0.0, 0.0, ...], 'sampling_rate': 48000}</td>\n",
       "      <td>Ağları en çok kullananlar gençler.</td>\n",
       "    </tr>\n",
       "    <tr>\n",
       "      <th>6</th>\n",
       "      <td>/home/ec2-user/.cache/huggingface/datasets/downloads/extracted/211b5c20a015f678b41323cdd92fbd851122989d4637c71111babb6dfadf5d59/cv-corpus-6.1-2020-12-11/tr/clips/common_voice_tr_21317815.mp3</td>\n",
       "      <td>{'path': '/home/ec2-user/.cache/huggingface/datasets/downloads/extracted/211b5c20a015f678b41323cdd92fbd851122989d4637c71111babb6dfadf5d59/cv-corpus-6.1-2020-12-11/tr/clips/common_voice_tr_21317815.mp3', 'array': [0.0, 0.0, 0.0, 0.0, 0.0, 0.0, 0.0, 0.0, 0.0, 0.0, 0.0, 0.0, 0.0, 0.0, 0.0, 0.0, 0.0, 0.0, 0.0, 0.0, 0.0, 0.0, 0.0, 0.0, 0.0, 0.0, 0.0, 0.0, 0.0, 0.0, 0.0, 0.0, 0.0, 0.0, 0.0, 0.0, 0.0, 0.0, 0.0, 0.0, 0.0, 0.0, 0.0, 0.0, 0.0, 0.0, 0.0, 0.0, 0.0, 0.0, 0.0, 0.0, 0.0, 0.0, 0.0, 0.0, 0.0, 0.0, 0.0, 0.0, 0.0, 0.0, 0.0, 0.0, 0.0, 0.0, 0.0, 0.0, 0.0, 0.0, 0.0, 0.0, 0.0, 0.0, 0.0, 0.0, 0.0, 0.0, 0.0, 0.0, 0.0, 0.0, 0.0, 0.0, 0.0, 0.0, 0.0, 0.0, 0.0, 0.0, 0.0, 0.0, 0.0, 0.0, 0.0, 0.0, 0.0, 0.0, 0.0, 0.0, ...], 'sampling_rate': 48000}</td>\n",
       "      <td>Kurumlar vergisi de yüzde ona indirilecek.</td>\n",
       "    </tr>\n",
       "    <tr>\n",
       "      <th>7</th>\n",
       "      <td>/home/ec2-user/.cache/huggingface/datasets/downloads/extracted/211b5c20a015f678b41323cdd92fbd851122989d4637c71111babb6dfadf5d59/cv-corpus-6.1-2020-12-11/tr/clips/common_voice_tr_20970002.mp3</td>\n",
       "      <td>{'path': '/home/ec2-user/.cache/huggingface/datasets/downloads/extracted/211b5c20a015f678b41323cdd92fbd851122989d4637c71111babb6dfadf5d59/cv-corpus-6.1-2020-12-11/tr/clips/common_voice_tr_20970002.mp3', 'array': [0.0, 0.0, 0.0, 0.0, 0.0, 0.0, 0.0, 0.0, 0.0, 0.0, 0.0, 0.0, 0.0, 0.0, 0.0, 0.0, 0.0, 0.0, 0.0, 0.0, 0.0, 0.0, 0.0, 0.0, 0.0, 0.0, 0.0, 0.0, 0.0, 0.0, 0.0, 0.0, 0.0, 0.0, 0.0, 0.0, 0.0, 0.0, 0.0, 0.0, 0.0, 0.0, 0.0, 0.0, 0.0, 0.0, 0.0, 0.0, 0.0, 0.0, 0.0, 0.0, 0.0, 0.0, 0.0, 0.0, 0.0, 0.0, 0.0, 0.0, 0.0, 0.0, 0.0, 0.0, 0.0, 0.0, 0.0, 0.0, 0.0, 0.0, 0.0, 0.0, 0.0, 0.0, 0.0, 0.0, 0.0, 0.0, 0.0, 0.0, 0.0, 0.0, 0.0, 0.0, 0.0, 0.0, 0.0, 0.0, 0.0, 0.0, 0.0, 0.0, 0.0, 0.0, 0.0, 0.0, 0.0, 0.0, 0.0, 0.0, ...], 'sampling_rate': 48000}</td>\n",
       "      <td>Sizin deyiminizle, signomi .</td>\n",
       "    </tr>\n",
       "    <tr>\n",
       "      <th>8</th>\n",
       "      <td>/home/ec2-user/.cache/huggingface/datasets/downloads/extracted/211b5c20a015f678b41323cdd92fbd851122989d4637c71111babb6dfadf5d59/cv-corpus-6.1-2020-12-11/tr/clips/common_voice_tr_20482967.mp3</td>\n",
       "      <td>{'path': '/home/ec2-user/.cache/huggingface/datasets/downloads/extracted/211b5c20a015f678b41323cdd92fbd851122989d4637c71111babb6dfadf5d59/cv-corpus-6.1-2020-12-11/tr/clips/common_voice_tr_20482967.mp3', 'array': [0.0, 0.0, 0.0, 0.0, 0.0, 0.0, 0.0, 0.0, 0.0, 0.0, 0.0, 0.0, 0.0, 0.0, 0.0, 0.0, 0.0, 0.0, 0.0, 0.0, 0.0, 0.0, 0.0, 0.0, 0.0, 0.0, 0.0, 0.0, 0.0, 0.0, 0.0, 0.0, 0.0, 0.0, 0.0, 0.0, 0.0, 0.0, 0.0, 0.0, 0.0, 0.0, 0.0, 0.0, 0.0, 0.0, 0.0, 0.0, 0.0, 0.0, 0.0, 0.0, 0.0, 0.0, 0.0, 0.0, 0.0, 0.0, 0.0, 0.0, 0.0, 0.0, 0.0, 0.0, 0.0, 0.0, 0.0, 0.0, 0.0, 0.0, 0.0, 0.0, 0.0, 0.0, 0.0, 0.0, 0.0, 0.0, 0.0, 0.0, 0.0, 0.0, 0.0, 0.0, 0.0, 0.0, 0.0, 0.0, 0.0, 0.0, 0.0, 0.0, 0.0, 0.0, 0.0, 0.0, 0.0, 0.0, 0.0, 0.0, ...], 'sampling_rate': 48000}</td>\n",
       "      <td>Dahası, kapitalizm evrimine devam ediyor.</td>\n",
       "    </tr>\n",
       "    <tr>\n",
       "      <th>9</th>\n",
       "      <td>/home/ec2-user/.cache/huggingface/datasets/downloads/extracted/211b5c20a015f678b41323cdd92fbd851122989d4637c71111babb6dfadf5d59/cv-corpus-6.1-2020-12-11/tr/clips/common_voice_tr_17393320.mp3</td>\n",
       "      <td>{'path': '/home/ec2-user/.cache/huggingface/datasets/downloads/extracted/211b5c20a015f678b41323cdd92fbd851122989d4637c71111babb6dfadf5d59/cv-corpus-6.1-2020-12-11/tr/clips/common_voice_tr_17393320.mp3', 'array': [0.0, 0.0, 0.0, 0.0, 0.0, 0.0, 0.0, 0.0, 0.0, 0.0, 0.0, 0.0, 0.0, 0.0, 0.0, 0.0, 0.0, 0.0, 0.0, 0.0, 0.0, 0.0, 0.0, 0.0, 0.0, 0.0, 0.0, 0.0, 0.0, 0.0, 0.0, 0.0, 0.0, 0.0, 0.0, 0.0, 0.0, 0.0, 0.0, 0.0, 0.0, 0.0, 0.0, 0.0, 0.0, 0.0, 0.0, 0.0, 0.0, 0.0, 0.0, 0.0, 0.0, 0.0, 0.0, 0.0, 0.0, 0.0, 0.0, 0.0, 0.0, 0.0, 0.0, 0.0, 0.0, 0.0, 0.0, 0.0, 0.0, 0.0, 0.0, 0.0, 0.0, 0.0, 0.0, 0.0, 0.0, 0.0, 0.0, 0.0, 0.0, 0.0, 0.0, 0.0, 0.0, 0.0, 0.0, 0.0, 0.0, 0.0, 0.0, 0.0, 0.0, 0.0, 0.0, 0.0, 0.0, 0.0, 0.0, 0.0, ...], 'sampling_rate': 48000}</td>\n",
       "      <td>Aylık kredi ödemeleri hızla yükselmeye başladı.</td>\n",
       "    </tr>\n",
       "  </tbody>\n",
       "</table>"
      ],
      "text/plain": [
       "<IPython.core.display.HTML object>"
      ]
     },
     "metadata": {},
     "output_type": "display_data"
    }
   ],
   "source": [
    "show_random_elements(common_voice_train)"
   ]
  },
  {
   "cell_type": "code",
   "execution_count": 43,
   "id": "e8df4cd2",
   "metadata": {},
   "outputs": [],
   "source": [
    "import re \n",
    "\n",
    "def replace_hatted_characters(batch):\n",
    "    batch[\"sentence\"] = re.sub('[â]', 'a', batch[\"sentence\"])\n",
    "    batch[\"sentence\"] = re.sub('[î]', 'i', batch[\"sentence\"])\n",
    "    batch[\"sentence\"] = re.sub('[ô]', 'o', batch[\"sentence\"])\n",
    "    batch[\"sentence\"] = re.sub('[û]', 'u', batch[\"sentence\"])\n",
    "    return batch\n"
   ]
  },
  {
   "cell_type": "code",
   "execution_count": 44,
   "id": "51bd8b82",
   "metadata": {},
   "outputs": [
    {
     "data": {
      "application/vnd.jupyter.widget-view+json": {
       "model_id": "690e4f172dca4de09bd49462429e4ff6",
       "version_major": 2,
       "version_minor": 0
      },
      "text/plain": [
       "  0%|          | 0/3478 [00:00<?, ?ex/s]"
      ]
     },
     "metadata": {},
     "output_type": "display_data"
    },
    {
     "data": {
      "application/vnd.jupyter.widget-view+json": {
       "model_id": "364db6bf231243ee8e5d151dac5ba77f",
       "version_major": 2,
       "version_minor": 0
      },
      "text/plain": [
       "  0%|          | 0/1647 [00:00<?, ?ex/s]"
      ]
     },
     "metadata": {},
     "output_type": "display_data"
    }
   ],
   "source": [
    "common_voice_train = common_voice_train.map(replace_hatted_characters)\n",
    "common_voice_test = common_voice_test.map(replace_hatted_characters)\n"
   ]
  },
  {
   "cell_type": "code",
   "execution_count": 45,
   "id": "461c0045",
   "metadata": {},
   "outputs": [],
   "source": [
    "def extract_all_chars(batch):\n",
    "    all_text = \" \".join(batch[\"sentence\"])\n",
    "    vocab = list(set(all_text))\n",
    "    return {\"vocab\": [vocab], \"all_text\": [all_text]}\n"
   ]
  },
  {
   "cell_type": "code",
   "execution_count": 46,
   "id": "a16ff17d",
   "metadata": {},
   "outputs": [
    {
     "data": {
      "application/vnd.jupyter.widget-view+json": {
       "model_id": "33caca135ffa4401a8edbb85ed79b16a",
       "version_major": 2,
       "version_minor": 0
      },
      "text/plain": [
       "  0%|          | 0/1 [00:00<?, ?ba/s]"
      ]
     },
     "metadata": {},
     "output_type": "display_data"
    },
    {
     "data": {
      "application/vnd.jupyter.widget-view+json": {
       "model_id": "f793316f9e6f4c3885abbc75b0caeafb",
       "version_major": 2,
       "version_minor": 0
      },
      "text/plain": [
       "  0%|          | 0/1 [00:00<?, ?ba/s]"
      ]
     },
     "metadata": {},
     "output_type": "display_data"
    }
   ],
   "source": [
    "vocab_train = common_voice_train.map(extract_all_chars, batched=True, batch_size=-1, keep_in_memory=True, remove_columns=common_voice_train.column_names)\n",
    "vocab_test = common_voice_test.map(extract_all_chars, batched=True, batch_size=-1, keep_in_memory=True, remove_columns=common_voice_test.column_names)\n"
   ]
  },
  {
   "cell_type": "code",
   "execution_count": 47,
   "id": "7cd84509",
   "metadata": {},
   "outputs": [],
   "source": [
    "vocab_list = list(set(vocab_train[\"vocab\"][0]) | set(vocab_test[\"vocab\"][0]))\n"
   ]
  },
  {
   "cell_type": "code",
   "execution_count": 48,
   "id": "6f437688",
   "metadata": {},
   "outputs": [
    {
     "data": {
      "text/plain": [
       "{' ': 0,\n",
       " '!': 1,\n",
       " '\"': 2,\n",
       " '%': 3,\n",
       " \"'\": 4,\n",
       " ',': 5,\n",
       " '-': 6,\n",
       " '.': 7,\n",
       " '?': 8,\n",
       " 'A': 9,\n",
       " 'B': 10,\n",
       " 'C': 11,\n",
       " 'D': 12,\n",
       " 'E': 13,\n",
       " 'F': 14,\n",
       " 'G': 15,\n",
       " 'H': 16,\n",
       " 'I': 17,\n",
       " 'J': 18,\n",
       " 'K': 19,\n",
       " 'L': 20,\n",
       " 'M': 21,\n",
       " 'N': 22,\n",
       " 'O': 23,\n",
       " 'P': 24,\n",
       " 'Q': 25,\n",
       " 'R': 26,\n",
       " 'S': 27,\n",
       " 'T': 28,\n",
       " 'U': 29,\n",
       " 'V': 30,\n",
       " 'W': 31,\n",
       " 'X': 32,\n",
       " 'Y': 33,\n",
       " 'Z': 34,\n",
       " 'a': 35,\n",
       " 'b': 36,\n",
       " 'c': 37,\n",
       " 'd': 38,\n",
       " 'e': 39,\n",
       " 'f': 40,\n",
       " 'g': 41,\n",
       " 'h': 42,\n",
       " 'i': 43,\n",
       " 'j': 44,\n",
       " 'k': 45,\n",
       " 'l': 46,\n",
       " 'm': 47,\n",
       " 'n': 48,\n",
       " 'o': 49,\n",
       " 'p': 50,\n",
       " 'r': 51,\n",
       " 's': 52,\n",
       " 't': 53,\n",
       " 'u': 54,\n",
       " 'v': 55,\n",
       " 'w': 56,\n",
       " 'x': 57,\n",
       " 'y': 58,\n",
       " 'z': 59,\n",
       " 'Ç': 60,\n",
       " 'Ö': 61,\n",
       " 'Ü': 62,\n",
       " 'ç': 63,\n",
       " 'ë': 64,\n",
       " 'ö': 65,\n",
       " 'ü': 66,\n",
       " 'ğ': 67,\n",
       " 'İ': 68,\n",
       " 'ı': 69,\n",
       " 'Ş': 70,\n",
       " 'ş': 71,\n",
       " '‘': 72,\n",
       " '“': 73,\n",
       " '”': 74,\n",
       " '�': 75}"
      ]
     },
     "execution_count": 48,
     "metadata": {},
     "output_type": "execute_result"
    }
   ],
   "source": [
    "vocab_dict = {v: k for k, v in enumerate(sorted(vocab_list))}\n",
    "vocab_dict\n"
   ]
  },
  {
   "cell_type": "code",
   "execution_count": 49,
   "id": "4e2b1e55",
   "metadata": {},
   "outputs": [],
   "source": [
    "vocab_dict[\"|\"] = vocab_dict[\" \"]\n",
    "del vocab_dict[\" \"]\n"
   ]
  },
  {
   "cell_type": "code",
   "execution_count": 50,
   "id": "a3e650e7",
   "metadata": {},
   "outputs": [
    {
     "data": {
      "text/plain": [
       "78"
      ]
     },
     "execution_count": 50,
     "metadata": {},
     "output_type": "execute_result"
    }
   ],
   "source": [
    "vocab_dict[\"[UNK]\"] = len(vocab_dict)\n",
    "vocab_dict[\"[PAD]\"] = len(vocab_dict)\n",
    "len(vocab_dict)\n"
   ]
  },
  {
   "cell_type": "code",
   "execution_count": 51,
   "id": "19088f55",
   "metadata": {},
   "outputs": [],
   "source": [
    "import json\n",
    "with open('vocab.json', 'w') as vocab_file:\n",
    "    json.dump(vocab_dict, vocab_file)\n"
   ]
  },
  {
   "cell_type": "code",
   "execution_count": 52,
   "id": "23266bfd",
   "metadata": {},
   "outputs": [
    {
     "name": "stderr",
     "output_type": "stream",
     "text": [
      "file ./config.json not found\n",
      "Special tokens have been added in the vocabulary, make sure the associated word embeddings are fine-tuned or trained.\n"
     ]
    }
   ],
   "source": [
    "from transformers import Wav2Vec2CTCTokenizer\n",
    "\n",
    "tokenizer = Wav2Vec2CTCTokenizer.from_pretrained(\"./\", unk_token=\"[UNK]\", pad_token=\"[PAD]\", word_delimiter_token=\"|\")\n"
   ]
  },
  {
   "cell_type": "code",
   "execution_count": 53,
   "id": "91704b3d",
   "metadata": {},
   "outputs": [],
   "source": [
    "repo_name = \"wav2vec2-large-xls-r-300m-tr-colab\"\n"
   ]
  },
  {
   "cell_type": "code",
   "execution_count": 54,
   "id": "e03d32ac",
   "metadata": {},
   "outputs": [],
   "source": [
    "from transformers import Wav2Vec2FeatureExtractor\n",
    "\n",
    "feature_extractor = Wav2Vec2FeatureExtractor(feature_size=1, sampling_rate=16000, padding_value=0.0, do_normalize=True, return_attention_mask=True)\n"
   ]
  },
  {
   "cell_type": "code",
   "execution_count": 55,
   "id": "d1eec48b",
   "metadata": {},
   "outputs": [],
   "source": [
    "from transformers import Wav2Vec2Processor\n",
    "\n",
    "processor = Wav2Vec2Processor(feature_extractor=feature_extractor, tokenizer=tokenizer)\n"
   ]
  },
  {
   "cell_type": "code",
   "execution_count": 56,
   "id": "85595f3c",
   "metadata": {},
   "outputs": [
    {
     "data": {
      "text/plain": [
       "'/home/ec2-user/.cache/huggingface/datasets/downloads/extracted/211b5c20a015f678b41323cdd92fbd851122989d4637c71111babb6dfadf5d59/cv-corpus-6.1-2020-12-11/tr/clips/common_voice_tr_21921195.mp3'"
      ]
     },
     "execution_count": 56,
     "metadata": {},
     "output_type": "execute_result"
    }
   ],
   "source": [
    "common_voice_train[0][\"path\"]\n"
   ]
  },
  {
   "cell_type": "code",
   "execution_count": 57,
   "id": "ad8ba0fc",
   "metadata": {},
   "outputs": [
    {
     "data": {
      "text/plain": [
       "{'path': '/home/ec2-user/.cache/huggingface/datasets/downloads/extracted/211b5c20a015f678b41323cdd92fbd851122989d4637c71111babb6dfadf5d59/cv-corpus-6.1-2020-12-11/tr/clips/common_voice_tr_21921195.mp3',\n",
       " 'array': array([ 0.0000000e+00,  0.0000000e+00,  0.0000000e+00, ...,\n",
       "        -8.8930130e-05, -3.8027763e-05, -2.9146671e-05], dtype=float32),\n",
       " 'sampling_rate': 48000}"
      ]
     },
     "execution_count": 57,
     "metadata": {},
     "output_type": "execute_result"
    }
   ],
   "source": [
    "common_voice_train[0][\"audio\"]\n"
   ]
  },
  {
   "cell_type": "code",
   "execution_count": 58,
   "id": "60a2492b",
   "metadata": {},
   "outputs": [],
   "source": [
    "common_voice_train = common_voice_train.cast_column(\"audio\", Audio(sampling_rate=16_000))\n",
    "common_voice_test = common_voice_test.cast_column(\"audio\", Audio(sampling_rate=16_000))\n"
   ]
  },
  {
   "cell_type": "code",
   "execution_count": 59,
   "id": "dd7daf60",
   "metadata": {},
   "outputs": [
    {
     "name": "stdout",
     "output_type": "stream",
     "text": [
      "Bitola, Makedonya.\n"
     ]
    },
    {
     "data": {
      "text/html": [
       "\n",
       "                <audio controls=\"controls\" autoplay=\"autoplay\">\n",
       "                    <source src=\"data:audio/wav;base64,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\" type=\"audio/wav\" />\n",
       "                    Your browser does not support the audio element.\n",
       "                </audio>\n",
       "              "
      ],
      "text/plain": [
       "<IPython.lib.display.Audio object>"
      ]
     },
     "execution_count": 59,
     "metadata": {},
     "output_type": "execute_result"
    }
   ],
   "source": [
    "import IPython.display as ipd\n",
    "import numpy as np\n",
    "import random\n",
    "\n",
    "rand_int = random.randint(0, len(common_voice_train)-1)\n",
    "\n",
    "print(common_voice_train[rand_int][\"sentence\"])\n",
    "ipd.Audio(data=common_voice_train[rand_int][\"audio\"][\"array\"], autoplay=True, rate=16000)\n"
   ]
  },
  {
   "cell_type": "code",
   "execution_count": 60,
   "id": "8107b93a",
   "metadata": {},
   "outputs": [
    {
     "name": "stdout",
     "output_type": "stream",
     "text": [
      "Target text: Dört gün süren festivale binlerce kişi katıldı.\n",
      "Input array shape: (73728,)\n",
      "Sampling rate: 16000\n"
     ]
    }
   ],
   "source": [
    "rand_int = random.randint(0, len(common_voice_train)-1)\n",
    "\n",
    "print(\"Target text:\", common_voice_train[rand_int][\"sentence\"])\n",
    "print(\"Input array shape:\", common_voice_train[rand_int][\"audio\"][\"array\"].shape)\n",
    "print(\"Sampling rate:\", common_voice_train[rand_int][\"audio\"][\"sampling_rate\"])\n"
   ]
  },
  {
   "cell_type": "code",
   "execution_count": 61,
   "id": "01ee4c42",
   "metadata": {},
   "outputs": [],
   "source": [
    "def prepare_dataset(batch):\n",
    "    audio = batch[\"audio\"]\n",
    "\n",
    "    # batched output is \"un-batched\"\n",
    "    batch[\"input_values\"] = processor(audio[\"array\"], sampling_rate=audio[\"sampling_rate\"]).input_values[0]\n",
    "    batch[\"input_length\"] = len(batch[\"input_values\"])\n",
    "    \n",
    "    with processor.as_target_processor():\n",
    "        batch[\"labels\"] = processor(batch[\"sentence\"]).input_ids\n",
    "    return batch\n"
   ]
  },
  {
   "cell_type": "code",
   "execution_count": 62,
   "id": "a1529f7d",
   "metadata": {},
   "outputs": [
    {
     "data": {
      "application/vnd.jupyter.widget-view+json": {
       "model_id": "eb4ca93188264e3484a06477d4f24119",
       "version_major": 2,
       "version_minor": 0
      },
      "text/plain": [
       "  0%|          | 0/3478 [00:00<?, ?ex/s]"
      ]
     },
     "metadata": {},
     "output_type": "display_data"
    },
    {
     "data": {
      "application/vnd.jupyter.widget-view+json": {
       "model_id": "fc8310c9c45b44f4bf3c51fee1c7431c",
       "version_major": 2,
       "version_minor": 0
      },
      "text/plain": [
       "  0%|          | 0/1647 [00:00<?, ?ex/s]"
      ]
     },
     "metadata": {},
     "output_type": "display_data"
    }
   ],
   "source": [
    "common_voice_train = common_voice_train.map(prepare_dataset, remove_columns=common_voice_train.column_names)\n",
    "common_voice_test = common_voice_test.map(prepare_dataset, remove_columns=common_voice_test.column_names)\n"
   ]
  },
  {
   "cell_type": "code",
   "execution_count": 63,
   "id": "433b5775",
   "metadata": {},
   "outputs": [],
   "source": [
    "import torch\n",
    "\n",
    "from dataclasses import dataclass, field\n",
    "from typing import Any, Dict, List, Optional, Union\n",
    "\n",
    "@dataclass\n",
    "class DataCollatorCTCWithPadding:\n",
    "    \"\"\"\n",
    "    Data collator that will dynamically pad the inputs received.\n",
    "    Args:\n",
    "        processor (:class:`~transformers.Wav2Vec2Processor`)\n",
    "            The processor used for proccessing the data.\n",
    "        padding (:obj:`bool`, :obj:`str` or :class:`~transformers.tokenization_utils_base.PaddingStrategy`, `optional`, defaults to :obj:`True`):\n",
    "            Select a strategy to pad the returned sequences (according to the model's padding side and padding index)\n",
    "            among:\n",
    "            * :obj:`True` or :obj:`'longest'`: Pad to the longest sequence in the batch (or no padding if only a single\n",
    "              sequence if provided).\n",
    "            * :obj:`'max_length'`: Pad to a maximum length specified with the argument :obj:`max_length` or to the\n",
    "              maximum acceptable input length for the model if that argument is not provided.\n",
    "            * :obj:`False` or :obj:`'do_not_pad'` (default): No padding (i.e., can output a batch with sequences of\n",
    "              different lengths).\n",
    "    \"\"\"\n",
    "\n",
    "    processor: Wav2Vec2Processor\n",
    "    padding: Union[bool, str] = True\n",
    "\n",
    "    def __call__(self, features: List[Dict[str, Union[List[int], torch.Tensor]]]) -> Dict[str, torch.Tensor]:\n",
    "        # split inputs and labels since they have to be of different lenghts and need\n",
    "        # different padding methods\n",
    "        input_features = [{\"input_values\": feature[\"input_values\"]} for feature in features]\n",
    "        label_features = [{\"input_ids\": feature[\"labels\"]} for feature in features]\n",
    "\n",
    "        batch = self.processor.pad(\n",
    "            input_features,\n",
    "            padding=self.padding,\n",
    "            return_tensors=\"pt\",\n",
    "        )\n",
    "        with self.processor.as_target_processor():\n",
    "            labels_batch = self.processor.pad(\n",
    "                label_features,\n",
    "                padding=self.padding,\n",
    "                return_tensors=\"pt\",\n",
    "            )\n",
    "\n",
    "        # replace padding with -100 to ignore loss correctly\n",
    "        labels = labels_batch[\"input_ids\"].masked_fill(labels_batch.attention_mask.ne(1), -100)\n",
    "\n",
    "        batch[\"labels\"] = labels\n",
    "\n",
    "        return batch\n"
   ]
  },
  {
   "cell_type": "code",
   "execution_count": 64,
   "id": "134f6c32",
   "metadata": {},
   "outputs": [],
   "source": [
    "data_collator = DataCollatorCTCWithPadding(processor=processor, padding=True)\n"
   ]
  },
  {
   "cell_type": "code",
   "execution_count": 65,
   "id": "67d0b7fa",
   "metadata": {},
   "outputs": [],
   "source": [
    "wer_metric = load_metric(\"wer\")\n"
   ]
  },
  {
   "cell_type": "code",
   "execution_count": 66,
   "id": "9e17d552",
   "metadata": {},
   "outputs": [],
   "source": [
    "def compute_metrics(pred):\n",
    "    pred_logits = pred.predictions\n",
    "    pred_ids = np.argmax(pred_logits, axis=-1)\n",
    "\n",
    "    pred.label_ids[pred.label_ids == -100] = processor.tokenizer.pad_token_id\n",
    "\n",
    "    pred_str = processor.batch_decode(pred_ids)\n",
    "    # we do not want to group tokens when computing the metrics\n",
    "    label_str = processor.batch_decode(pred.label_ids, group_tokens=False)\n",
    "\n",
    "    wer = wer_metric.compute(predictions=pred_str, references=label_str)\n",
    "\n",
    "    return {\"wer\": wer}\n"
   ]
  },
  {
   "cell_type": "code",
   "execution_count": 67,
   "id": "29d44705",
   "metadata": {},
   "outputs": [
    {
     "name": "stderr",
     "output_type": "stream",
     "text": [
      "Some weights of the model checkpoint at facebook/wav2vec2-xls-r-300m were not used when initializing Wav2Vec2ForCTC: ['project_hid.weight', 'project_hid.bias', 'quantizer.codevectors', 'quantizer.weight_proj.bias', 'project_q.bias', 'project_q.weight', 'quantizer.weight_proj.weight']\n",
      "- This IS expected if you are initializing Wav2Vec2ForCTC from the checkpoint of a model trained on another task or with another architecture (e.g. initializing a BertForSequenceClassification model from a BertForPreTraining model).\n",
      "- This IS NOT expected if you are initializing Wav2Vec2ForCTC from the checkpoint of a model that you expect to be exactly identical (initializing a BertForSequenceClassification model from a BertForSequenceClassification model).\n",
      "Some weights of Wav2Vec2ForCTC were not initialized from the model checkpoint at facebook/wav2vec2-xls-r-300m and are newly initialized: ['lm_head.weight', 'lm_head.bias']\n",
      "You should probably TRAIN this model on a down-stream task to be able to use it for predictions and inference.\n"
     ]
    }
   ],
   "source": [
    "from transformers import Wav2Vec2ForCTC\n",
    "\n",
    "model = Wav2Vec2ForCTC.from_pretrained(\n",
    "    \"facebook/wav2vec2-xls-r-300m\", \n",
    "    attention_dropout=0.0,\n",
    "    hidden_dropout=0.0,\n",
    "    feat_proj_dropout=0.0,\n",
    "    mask_time_prob=0.05,\n",
    "    layerdrop=0.0,\n",
    "    ctc_loss_reduction=\"mean\", \n",
    "    pad_token_id=processor.tokenizer.pad_token_id,\n",
    "    vocab_size=len(processor.tokenizer),\n",
    ")\n"
   ]
  },
  {
   "cell_type": "code",
   "execution_count": 68,
   "id": "1e779870",
   "metadata": {},
   "outputs": [],
   "source": [
    "model.freeze_feature_extractor()\n"
   ]
  },
  {
   "cell_type": "code",
   "execution_count": 69,
   "id": "81ef576e",
   "metadata": {},
   "outputs": [],
   "source": [
    "from transformers import TrainingArguments\n",
    "\n",
    "training_args = TrainingArguments(\n",
    "  output_dir=repo_name,\n",
    "  group_by_length=True,\n",
    "  per_device_train_batch_size=16,\n",
    "  gradient_accumulation_steps=2,\n",
    "  evaluation_strategy=\"steps\",\n",
    "  num_train_epochs=3,\n",
    "  gradient_checkpointing=True,\n",
    "  fp16=True,\n",
    "  save_steps=400,\n",
    "  eval_steps=400,\n",
    "  logging_steps=400,\n",
    "  learning_rate=3e-4,\n",
    "  warmup_steps=500,\n",
    "  save_total_limit=2,\n",
    "  push_to_hub=False,\n",
    ")\n"
   ]
  },
  {
   "cell_type": "code",
   "execution_count": 70,
   "id": "57f3ec03",
   "metadata": {},
   "outputs": [
    {
     "name": "stderr",
     "output_type": "stream",
     "text": [
      "Using amp fp16 backend\n"
     ]
    }
   ],
   "source": [
    "from transformers import Trainer\n",
    "\n",
    "trainer = Trainer(\n",
    "    model=model,\n",
    "    data_collator=data_collator,\n",
    "    args=training_args,\n",
    "    compute_metrics=compute_metrics,\n",
    "    train_dataset=common_voice_train,\n",
    "    eval_dataset=common_voice_test,\n",
    "    tokenizer=processor.feature_extractor,\n",
    ")\n"
   ]
  },
  {
   "cell_type": "code",
   "execution_count": null,
   "id": "ba80c750",
   "metadata": {
    "scrolled": true
   },
   "outputs": [
    {
     "name": "stderr",
     "output_type": "stream",
     "text": [
      "The following columns in the training set  don't have a corresponding argument in `Wav2Vec2ForCTC.forward` and have been ignored: input_length.\n",
      "***** Running training *****\n",
      "  Num examples = 3478\n",
      "  Num Epochs = 3\n",
      "  Instantaneous batch size per device = 16\n",
      "  Total train batch size (w. parallel, distributed & accumulation) = 32\n",
      "  Gradient Accumulation steps = 2\n",
      "  Total optimization steps = 327\n",
      "/home/ec2-user/anaconda3/envs/python3/lib/python3.6/site-packages/transformers/feature_extraction_utils.py:158: UserWarning: Creating a tensor from a list of numpy.ndarrays is extremely slow. Please consider converting the list to a single numpy.ndarray with numpy.array() before converting to a tensor. (Triggered internally at  ../torch/csrc/utils/tensor_new.cpp:201.)\n",
      "  tensor = as_tensor(value)\n",
      "/home/ec2-user/anaconda3/envs/python3/lib/python3.6/site-packages/transformers/models/wav2vec2/modeling_wav2vec2.py:882: UserWarning: __floordiv__ is deprecated, and its behavior will change in a future version of pytorch. It currently rounds toward 0 (like the 'trunc' function NOT 'floor'). This results in incorrect rounding for negative values. To keep the current behavior, use torch.div(a, b, rounding_mode='trunc'), or for actual floor division, use torch.div(a, b, rounding_mode='floor').\n",
      "  return (input_length - kernel_size) // stride + 1\n"
     ]
    },
    {
     "data": {
      "text/html": [
       "\n",
       "    <div>\n",
       "      \n",
       "      <progress value='40' max='327' style='width:300px; height:20px; vertical-align: middle;'></progress>\n",
       "      [ 40/327 13:18 < 1:40:33, 0.05 it/s, Epoch 0.36/3]\n",
       "    </div>\n",
       "    <table border=\"1\" class=\"dataframe\">\n",
       "  <thead>\n",
       "    <tr style=\"text-align: left;\">\n",
       "      <th>Step</th>\n",
       "      <th>Training Loss</th>\n",
       "      <th>Validation Loss</th>\n",
       "    </tr>\n",
       "  </thead>\n",
       "  <tbody>\n",
       "  </tbody>\n",
       "</table><p>"
      ],
      "text/plain": [
       "<IPython.core.display.HTML object>"
      ]
     },
     "metadata": {},
     "output_type": "display_data"
    }
   ],
   "source": [
    "trainer.train()\n"
   ]
  },
  {
   "cell_type": "code",
   "execution_count": null,
   "id": "8edbf61b",
   "metadata": {},
   "outputs": [],
   "source": [
    "path = 'wav2vec2-large-xls-r-300m-tr-colab'\n",
    "\n",
    "model = Wav2Vec2ForCTC.from_pretrained(path, local_files_only=True).to(\"cuda\")\n",
    "# processor = Wav2Vec2Processor.from_pretrained(repo_name)\n"
   ]
  },
  {
   "cell_type": "code",
   "execution_count": null,
   "id": "15d89ef5",
   "metadata": {},
   "outputs": [],
   "source": []
  }
 ],
 "metadata": {
  "kernelspec": {
   "display_name": "conda_python3",
   "language": "python",
   "name": "conda_python3"
  },
  "language_info": {
   "codemirror_mode": {
    "name": "ipython",
    "version": 3
   },
   "file_extension": ".py",
   "mimetype": "text/x-python",
   "name": "python",
   "nbconvert_exporter": "python",
   "pygments_lexer": "ipython3",
   "version": "3.6.13"
  }
 },
 "nbformat": 4,
 "nbformat_minor": 5
}
